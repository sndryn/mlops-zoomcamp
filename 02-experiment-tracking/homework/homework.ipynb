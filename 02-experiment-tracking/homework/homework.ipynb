{
 "cells": [
  {
   "cell_type": "markdown",
   "id": "4ef9794c",
   "metadata": {},
   "source": [
    "# MLOps Zoomcamp Experiment Tracking Homework"
   ]
  },
  {
   "cell_type": "markdown",
   "id": "7d50aea5",
   "metadata": {},
   "source": [
    "### MLflow version"
   ]
  },
  {
   "cell_type": "code",
   "execution_count": 1,
   "id": "7f727ca8",
   "metadata": {},
   "outputs": [
    {
     "name": "stdout",
     "output_type": "stream",
     "text": [
      "mlflow, version 2.22.0\n"
     ]
    }
   ],
   "source": [
    "!mlflow --version"
   ]
  },
  {
   "cell_type": "markdown",
   "id": "97b98f96",
   "metadata": {},
   "source": [
    "### Download data"
   ]
  },
  {
   "cell_type": "code",
   "execution_count": 9,
   "id": "2b3103f6",
   "metadata": {},
   "outputs": [],
   "source": [
    "import pandas as pd\n",
    "\n",
    "links = {\n",
    "    \"jan_2023\": \"https://d37ci6vzurychx.cloudfront.net/trip-data/green_tripdata_2023-01.parquet\",\n",
    "    \"feb_2023\": \"https://d37ci6vzurychx.cloudfront.net/trip-data/green_tripdata_2023-02.parquet\",\n",
    "    \"mar_2023\": \"https://d37ci6vzurychx.cloudfront.net/trip-data/green_tripdata_2023-03.parquet\",\n",
    "}\n",
    "\n",
    "df_jan = pd.read_parquet(links[\"jan_2023\"])\n",
    "df_feb = pd.read_parquet(links[\"feb_2023\"])\n",
    "df_mar = pd.read_parquet(links[\"mar_2023\"])\n",
    "\n",
    "df_jan.to_parquet(\"data/green_tripdata_2023-01.parquet\", index=False)\n",
    "df_feb.to_parquet(\"data/green_tripdata_2023-02.parquet\", index=False)\n",
    "df_mar.to_parquet(\"data/green_tripdata_2023-03.parquet\", index=False)"
   ]
  },
  {
   "cell_type": "markdown",
   "id": "0d46f993",
   "metadata": {},
   "source": [
    "### Preprocess Data"
   ]
  },
  {
   "cell_type": "code",
   "execution_count": 10,
   "id": "1729f0eb",
   "metadata": {},
   "outputs": [],
   "source": [
    "!python preprocess_data.py --raw_data_path data --dest_path ./output"
   ]
  },
  {
   "cell_type": "code",
   "execution_count": 15,
   "id": "27bea923",
   "metadata": {},
   "outputs": [
    {
     "name": "stdout",
     "output_type": "stream",
     "text": [
      "Number of files = 4\n"
     ]
    }
   ],
   "source": [
    "import os\n",
    "\n",
    "files = os.listdir(\"output\")\n",
    "print(\"Number of files =\", len(files))"
   ]
  },
  {
   "cell_type": "markdown",
   "id": "05684111",
   "metadata": {},
   "source": [
    "### Train "
   ]
  },
  {
   "cell_type": "code",
   "execution_count": 14,
   "id": "c4df7e93",
   "metadata": {},
   "outputs": [],
   "source": [
    "!python train.py"
   ]
  },
  {
   "cell_type": "markdown",
   "id": "03d2aee5",
   "metadata": {},
   "source": [
    "Value of `min_samples_split` parameter = 2"
   ]
  },
  {
   "cell_type": "markdown",
   "id": "abe6892e",
   "metadata": {},
   "source": [
    "### Launch tracking server locally\n",
    "\n",
    "```\n",
    "mlflow server \\\n",
    "  --host 0.0.0.0 \\\n",
    "  --port 5000 \\\n",
    "  --backend-store-uri sqlite:///mlflow.db \\\n",
    "  --default-artifact-root ./artifact\n",
    "```"
   ]
  },
  {
   "cell_type": "markdown",
   "id": "489a2e2e",
   "metadata": {},
   "source": [
    "### Tune model hyperparameters"
   ]
  },
  {
   "cell_type": "code",
   "execution_count": 20,
   "id": "9f208647",
   "metadata": {},
   "outputs": [
    {
     "name": "stdout",
     "output_type": "stream",
     "text": [
      "2025/05/23 14:22:31 INFO mlflow.tracking.fluent: Experiment with name 'random-forest-hyperopt' does not exist. Creating a new experiment.\n",
      "🏃 View run shivering-croc-527 at: http://127.0.0.1:5000/#/experiments/1/runs/c47365e3b24045dcbb9f26d313cad52a\n",
      "\n",
      "🧪 View experiment at: http://127.0.0.1:5000/#/experiments/1                    \n",
      "\n",
      "🏃 View run nervous-pig-126 at: http://127.0.0.1:5000/#/experiments/1/runs/42ff14c6ee0847f4aa75cf21225c442f\n",
      "\n",
      "🧪 View experiment at: http://127.0.0.1:5000/#/experiments/1                    \n",
      "\n",
      "🏃 View run bright-bee-219 at: http://127.0.0.1:5000/#/experiments/1/runs/5680c2ada65b4d9d96d01ba91884fb96\n",
      "\n",
      "🧪 View experiment at: http://127.0.0.1:5000/#/experiments/1                    \n",
      "\n",
      "🏃 View run trusting-sheep-856 at: http://127.0.0.1:5000/#/experiments/1/runs/14775e7396bc44a5ab2bb2369f347cfb\n",
      "\n",
      "🧪 View experiment at: http://127.0.0.1:5000/#/experiments/1                    \n",
      "\n",
      "🏃 View run overjoyed-rook-231 at: http://127.0.0.1:5000/#/experiments/1/runs/3aefd54cc54c48569120285ea6d14d25\n",
      "\n",
      "🧪 View experiment at: http://127.0.0.1:5000/#/experiments/1                    \n",
      "\n",
      "🏃 View run crawling-grub-575 at: http://127.0.0.1:5000/#/experiments/1/runs/3d7a7aac8d3a4cc0a81ab1727526c0aa\n",
      "\n",
      "🧪 View experiment at: http://127.0.0.1:5000/#/experiments/1                    \n",
      "\n",
      "🏃 View run bright-shrimp-275 at: http://127.0.0.1:5000/#/experiments/1/runs/bf4bcb038eba4b2e832c1478fa4e819c\n",
      "\n",
      "🧪 View experiment at: http://127.0.0.1:5000/#/experiments/1                    \n",
      "\n",
      "🏃 View run puzzled-frog-578 at: http://127.0.0.1:5000/#/experiments/1/runs/f6ca7cd6744c40c6a24fb14fd3eb6219\n",
      "\n",
      "🧪 View experiment at: http://127.0.0.1:5000/#/experiments/1                    \n",
      "\n",
      "🏃 View run magnificent-gnu-928 at: http://127.0.0.1:5000/#/experiments/1/runs/5c04e5ae3b1449938af334d746b9c347\n",
      "\n",
      "🧪 View experiment at: http://127.0.0.1:5000/#/experiments/1                    \n",
      "\n",
      "🏃 View run victorious-rat-567 at: http://127.0.0.1:5000/#/experiments/1/runs/8fdac66832e94ac8915731e8b1f2fb1a\n",
      "\n",
      "🧪 View experiment at: http://127.0.0.1:5000/#/experiments/1                    \n",
      "\n",
      "🏃 View run handsome-lynx-575 at: http://127.0.0.1:5000/#/experiments/1/runs/ed7f83029079489d8290fc74cd933a7d\n",
      "\n",
      "🧪 View experiment at: http://127.0.0.1:5000/#/experiments/1                    \n",
      "\n",
      "🏃 View run carefree-newt-41 at: http://127.0.0.1:5000/#/experiments/1/runs/c2011bc05df34e188253c30c3ec048b9\n",
      "\n",
      "🧪 View experiment at: http://127.0.0.1:5000/#/experiments/1                    \n",
      "\n",
      "🏃 View run defiant-moose-815 at: http://127.0.0.1:5000/#/experiments/1/runs/b20dc175b6d9476cac19932ca7325694\n",
      "\n",
      "🧪 View experiment at: http://127.0.0.1:5000/#/experiments/1                    \n",
      "\n",
      "🏃 View run grandiose-cub-320 at: http://127.0.0.1:5000/#/experiments/1/runs/13875a660f824704b2c25cfad13be537\n",
      "\n",
      "🧪 View experiment at: http://127.0.0.1:5000/#/experiments/1                    \n",
      "\n",
      "🏃 View run mysterious-cub-775 at: http://127.0.0.1:5000/#/experiments/1/runs/5af3c9cc920d41b2ba5114484baad242\n",
      "\n",
      "🧪 View experiment at: http://127.0.0.1:5000/#/experiments/1                    \n",
      "\n",
      "100%|██████████| 15/15 [00:58<00:00,  3.87s/trial, best loss: 5.335419588556921]\n"
     ]
    }
   ],
   "source": [
    "!python hpo.py"
   ]
  },
  {
   "cell_type": "markdown",
   "id": "6d27a96d",
   "metadata": {},
   "source": [
    "Best RMSE: 5.335419588556921"
   ]
  },
  {
   "cell_type": "markdown",
   "id": "500ab727",
   "metadata": {},
   "source": [
    "### Register Model"
   ]
  },
  {
   "cell_type": "code",
   "execution_count": 23,
   "id": "611384a6",
   "metadata": {},
   "outputs": [
    {
     "name": "stdout",
     "output_type": "stream",
     "text": [
      "🏃 View run sedate-sheep-284 at: http://127.0.0.1:5000/#/experiments/2/runs/fa67a1572db54080b884bcd0d9332ccf\n",
      "🧪 View experiment at: http://127.0.0.1:5000/#/experiments/2\n",
      "🏃 View run valuable-whale-260 at: http://127.0.0.1:5000/#/experiments/2/runs/38929fa1ba7149f7833c43cc2e5c8316\n",
      "🧪 View experiment at: http://127.0.0.1:5000/#/experiments/2\n",
      "🏃 View run overjoyed-sloth-833 at: http://127.0.0.1:5000/#/experiments/2/runs/14e98431410f40049a5050477b73c46c\n",
      "🧪 View experiment at: http://127.0.0.1:5000/#/experiments/2\n",
      "🏃 View run glamorous-rat-819 at: http://127.0.0.1:5000/#/experiments/2/runs/27b5a11743f54f919a0ddad2185f6716\n",
      "🧪 View experiment at: http://127.0.0.1:5000/#/experiments/2\n",
      "🏃 View run agreeable-ant-967 at: http://127.0.0.1:5000/#/experiments/2/runs/3a6b926153cb438389e210400b005e64\n",
      "🧪 View experiment at: http://127.0.0.1:5000/#/experiments/2\n",
      "Registered model 'nyc-green-taxi-model' already exists. Creating a new version of this model...\n",
      "2025/05/23 14:38:44 INFO mlflow.store.model_registry.abstract_store: Waiting up to 300 seconds for model version to finish creation. Model name: nyc-green-taxi-model, version 2\n",
      "Created version '2' of model 'nyc-green-taxi-model'.\n"
     ]
    }
   ],
   "source": [
    "!python register_model.py"
   ]
  },
  {
   "cell_type": "markdown",
   "id": "16dbec92",
   "metadata": {},
   "source": [
    "Best test RMSE: 5.567408012462019"
   ]
  }
 ],
 "metadata": {
  "kernelspec": {
   "display_name": "venv",
   "language": "python",
   "name": "python3"
  },
  "language_info": {
   "codemirror_mode": {
    "name": "ipython",
    "version": 3
   },
   "file_extension": ".py",
   "mimetype": "text/x-python",
   "name": "python",
   "nbconvert_exporter": "python",
   "pygments_lexer": "ipython3",
   "version": "3.10.12"
  }
 },
 "nbformat": 4,
 "nbformat_minor": 5
}
