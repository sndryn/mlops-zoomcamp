{
 "cells": [
  {
   "cell_type": "markdown",
   "metadata": {},
   "source": [
    "# Debugging with Evidently Test Suites and Reports"
   ]
  },
  {
   "cell_type": "code",
   "execution_count": 1,
   "metadata": {},
   "outputs": [],
   "source": [
    "import pandas as pd\n",
    "import datetime\n",
    "\n",
    "from joblib import dump, load\n",
    "from sklearn.linear_model import LinearRegression\n",
    "from sklearn.metrics import mean_absolute_error, mean_absolute_percentage_error\n",
    "\n",
    "from evidently import ColumnMapping\n",
    "from evidently.report import report\n",
    "from evidently.metric_preset import DataDriftPreset\n",
    "\n",
    "from evidently.test_suite import TestSuite\n",
    "from evidently.test_preset import DataDriftTestPreset"
   ]
  },
  {
   "cell_type": "code",
   "execution_count": 2,
   "metadata": {},
   "outputs": [],
   "source": [
    "reference_data = pd.read_parquet(\"data/reference.parquet\")\n",
    "current_data = pd.read_parquet(\"data/green_tripdata_2022-02.parquet\")"
   ]
  },
  {
   "cell_type": "code",
   "execution_count": 3,
   "metadata": {},
   "outputs": [],
   "source": [
    "with open(\"models/lin_reg.bin\", \"rb\") as f_in:\n",
    "    model = load(f_in)"
   ]
  },
  {
   "cell_type": "code",
   "execution_count": 4,
   "metadata": {},
   "outputs": [],
   "source": [
    "num_features = [\"passenger_count\", \"trip_distance\", \"fare_amount\", \"total_amount\"]\n",
    "cat_features = [\"PULocationID\", \"DOLocationID\"]\n",
    "target = \"duration_min\""
   ]
  },
  {
   "cell_type": "code",
   "execution_count": 6,
   "metadata": {},
   "outputs": [],
   "source": [
    "problematic_data = current_data.loc[(current_data.lpep_pickup_datetime >= (datetime.datetime(2022, 2, 2, 0, 9)))\n",
    "                                    & (current_data.lpep_pickup_datetime < (datetime.datetime(2022, 2, 3, 0, 9)))]"
   ]
  },
  {
   "cell_type": "code",
   "execution_count": 8,
   "metadata": {},
   "outputs": [],
   "source": [
    "column_mapping = ColumnMapping(\n",
    "    prediction=\"prediction\",\n",
    "    numerical_features=num_features,\n",
    "    categorical_features=cat_features,\n",
    "    target=None\n",
    ")"
   ]
  },
  {
   "cell_type": "code",
   "execution_count": 11,
   "metadata": {},
   "outputs": [
    {
     "ename": "ValueError",
     "evalue": "Prediction column (prediction) is partially present in data",
     "output_type": "error",
     "traceback": [
      "\u001b[31m---------------------------------------------------------------------------\u001b[39m",
      "\u001b[31mValueError\u001b[39m                                Traceback (most recent call last)",
      "\u001b[36mCell\u001b[39m\u001b[36m \u001b[39m\u001b[32mIn[11]\u001b[39m\u001b[32m, line 2\u001b[39m\n\u001b[32m      1\u001b[39m test_suite = TestSuite(tests = [DataDriftTestPreset()])\n\u001b[32m----> \u001b[39m\u001b[32m2\u001b[39m \u001b[43mtest_suite\u001b[49m\u001b[43m.\u001b[49m\u001b[43mrun\u001b[49m\u001b[43m(\u001b[49m\u001b[43mreference_data\u001b[49m\u001b[43m=\u001b[49m\u001b[43mreference_data\u001b[49m\u001b[43m,\u001b[49m\n\u001b[32m      3\u001b[39m \u001b[43m               \u001b[49m\u001b[43mcurrent_data\u001b[49m\u001b[43m=\u001b[49m\u001b[43mproblematic_data\u001b[49m\u001b[43m,\u001b[49m\n\u001b[32m      4\u001b[39m \u001b[43m               \u001b[49m\u001b[43mcolumn_mapping\u001b[49m\u001b[43m=\u001b[49m\u001b[43mcolumn_mapping\u001b[49m\u001b[43m)\u001b[49m\n",
      "\u001b[36mFile \u001b[39m\u001b[32m~/Documents/MLOps-Zoomcamp/mlops-zoomcamp/venv/lib/python3.11/site-packages/evidently/test_suite/test_suite.py:126\u001b[39m, in \u001b[36mTestSuite.run\u001b[39m\u001b[34m(self, reference_data, current_data, column_mapping, engine, additional_data, timestamp)\u001b[39m\n\u001b[32m    124\u001b[39m \u001b[38;5;28;01mif\u001b[39;00m \u001b[38;5;28mself\u001b[39m._inner_suite.context.engine \u001b[38;5;129;01mis\u001b[39;00m \u001b[38;5;28;01mNone\u001b[39;00m:\n\u001b[32m    125\u001b[39m     \u001b[38;5;28;01mraise\u001b[39;00m \u001b[38;5;167;01mValueError\u001b[39;00m(\u001b[33m\"\u001b[39m\u001b[33mEngine is not set\u001b[39m\u001b[33m\"\u001b[39m)\n\u001b[32m--> \u001b[39m\u001b[32m126\u001b[39m \u001b[38;5;28mself\u001b[39m._data_definition = \u001b[38;5;28;43mself\u001b[39;49m\u001b[43m.\u001b[49m\u001b[43m_inner_suite\u001b[49m\u001b[43m.\u001b[49m\u001b[43mcontext\u001b[49m\u001b[43m.\u001b[49m\u001b[43mget_data_definition\u001b[49m\u001b[43m(\u001b[49m\n\u001b[32m    127\u001b[39m \u001b[43m    \u001b[49m\u001b[43mcurrent_data\u001b[49m\u001b[43m,\u001b[49m\n\u001b[32m    128\u001b[39m \u001b[43m    \u001b[49m\u001b[43mreference_data\u001b[49m\u001b[43m,\u001b[49m\n\u001b[32m    129\u001b[39m \u001b[43m    \u001b[49m\u001b[43mcolumn_mapping\u001b[49m\u001b[43m,\u001b[49m\n\u001b[32m    130\u001b[39m \u001b[43m\u001b[49m\u001b[43m)\u001b[49m\n\u001b[32m    131\u001b[39m \u001b[38;5;28;01mfor\u001b[39;00m preset \u001b[38;5;129;01min\u001b[39;00m \u001b[38;5;28mself\u001b[39m._test_presets:\n\u001b[32m    132\u001b[39m     tests = preset.generate_tests(\u001b[38;5;28mself\u001b[39m._data_definition, additional_data=additional_data)\n",
      "\u001b[36mFile \u001b[39m\u001b[32m~/Documents/MLOps-Zoomcamp/mlops-zoomcamp/venv/lib/python3.11/site-packages/evidently/suite/base_suite.py:133\u001b[39m, in \u001b[36mContext.get_data_definition\u001b[39m\u001b[34m(self, current_data, reference_data, column_mapping, categorical_features_cardinality)\u001b[39m\n\u001b[32m    131\u001b[39m     \u001b[38;5;28;01mif\u001b[39;00m \u001b[38;5;28mself\u001b[39m.engine \u001b[38;5;129;01mis\u001b[39;00m \u001b[38;5;28;01mNone\u001b[39;00m:\n\u001b[32m    132\u001b[39m         \u001b[38;5;28;01mraise\u001b[39;00m \u001b[38;5;167;01mValueError\u001b[39;00m(\u001b[33m\"\u001b[39m\u001b[33mCannot create data definition when engine is not set\u001b[39m\u001b[33m\"\u001b[39m)\n\u001b[32m--> \u001b[39m\u001b[32m133\u001b[39m     \u001b[38;5;28mself\u001b[39m.data_definition = \u001b[38;5;28;43mself\u001b[39;49m\u001b[43m.\u001b[49m\u001b[43mengine\u001b[49m\u001b[43m.\u001b[49m\u001b[43mget_data_definition\u001b[49m\u001b[43m(\u001b[49m\n\u001b[32m    134\u001b[39m \u001b[43m        \u001b[49m\u001b[43mcurrent_data\u001b[49m\u001b[43m,\u001b[49m\n\u001b[32m    135\u001b[39m \u001b[43m        \u001b[49m\u001b[43mreference_data\u001b[49m\u001b[43m,\u001b[49m\n\u001b[32m    136\u001b[39m \u001b[43m        \u001b[49m\u001b[43mcolumn_mapping\u001b[49m\u001b[43m,\u001b[49m\n\u001b[32m    137\u001b[39m \u001b[43m        \u001b[49m\u001b[43mcategorical_features_cardinality\u001b[49m\u001b[43m,\u001b[49m\n\u001b[32m    138\u001b[39m \u001b[43m    \u001b[49m\u001b[43m)\u001b[49m\n\u001b[32m    139\u001b[39m \u001b[38;5;28;01mreturn\u001b[39;00m \u001b[38;5;28mself\u001b[39m.data_definition\n",
      "\u001b[36mFile \u001b[39m\u001b[32m~/Documents/MLOps-Zoomcamp/mlops-zoomcamp/venv/lib/python3.11/site-packages/evidently/calculation_engine/python_engine.py:54\u001b[39m, in \u001b[36mPythonEngine.get_data_definition\u001b[39m\u001b[34m(self, current_data, reference_data, column_mapping, categorical_features_cardinality)\u001b[39m\n\u001b[32m     50\u001b[39m \u001b[38;5;28;01mif\u001b[39;00m \u001b[38;5;129;01mnot\u001b[39;00m \u001b[38;5;28misinstance\u001b[39m(current_data, pd.DataFrame) \u001b[38;5;129;01mor\u001b[39;00m (\n\u001b[32m     51\u001b[39m     reference_data \u001b[38;5;129;01mis\u001b[39;00m \u001b[38;5;129;01mnot\u001b[39;00m \u001b[38;5;28;01mNone\u001b[39;00m \u001b[38;5;129;01mand\u001b[39;00m \u001b[38;5;129;01mnot\u001b[39;00m \u001b[38;5;28misinstance\u001b[39m(reference_data, pd.DataFrame)\n\u001b[32m     52\u001b[39m ):\n\u001b[32m     53\u001b[39m     \u001b[38;5;28;01mraise\u001b[39;00m \u001b[38;5;167;01mValueError\u001b[39;00m(\u001b[33m\"\u001b[39m\u001b[33mPandasEngine works only with pd.DataFrame input data\u001b[39m\u001b[33m\"\u001b[39m)\n\u001b[32m---> \u001b[39m\u001b[32m54\u001b[39m \u001b[38;5;28;01mreturn\u001b[39;00m \u001b[43mcreate_data_definition\u001b[49m\u001b[43m(\u001b[49m\u001b[43mreference_data\u001b[49m\u001b[43m,\u001b[49m\u001b[43m \u001b[49m\u001b[43mcurrent_data\u001b[49m\u001b[43m,\u001b[49m\u001b[43m \u001b[49m\u001b[43mcolumn_mapping\u001b[49m\u001b[43m,\u001b[49m\u001b[43m \u001b[49m\u001b[43mcategorical_features_cardinality\u001b[49m\u001b[43m)\u001b[49m\n",
      "\u001b[36mFile \u001b[39m\u001b[32m~/Documents/MLOps-Zoomcamp/mlops-zoomcamp/venv/lib/python3.11/site-packages/evidently/utils/data_preprocessing.py:324\u001b[39m, in \u001b[36mcreate_data_definition\u001b[39m\u001b[34m(reference_data, current_data, mapping, categorical_features_cardinality_limit)\u001b[39m\n\u001b[32m    304\u001b[39m target_column = _process_column(\n\u001b[32m    305\u001b[39m     _column_not_present_in_list(\n\u001b[32m    306\u001b[39m         mapping.target,\n\u001b[32m   (...)\u001b[39m\u001b[32m    312\u001b[39m     mapping=mapping,\n\u001b[32m    313\u001b[39m )\n\u001b[32m    314\u001b[39m datetime_column = _process_column(\n\u001b[32m    315\u001b[39m     _column_not_present_in_list(\n\u001b[32m    316\u001b[39m         mapping.datetime,\n\u001b[32m   (...)\u001b[39m\u001b[32m    321\u001b[39m     data,\n\u001b[32m    322\u001b[39m )\n\u001b[32m--> \u001b[39m\u001b[32m324\u001b[39m prediction_columns = \u001b[43m_prediction_column\u001b[49m\u001b[43m(\u001b[49m\n\u001b[32m    325\u001b[39m \u001b[43m    \u001b[49m\u001b[43mmapping\u001b[49m\u001b[43m.\u001b[49m\u001b[43mprediction\u001b[49m\u001b[43m,\u001b[49m\n\u001b[32m    326\u001b[39m \u001b[43m    \u001b[49m\u001b[43mtarget_column\u001b[49m\u001b[43m.\u001b[49m\u001b[43mcolumn_type\u001b[49m\u001b[43m \u001b[49m\u001b[38;5;28;43;01mif\u001b[39;49;00m\u001b[43m \u001b[49m\u001b[43mtarget_column\u001b[49m\u001b[43m \u001b[49m\u001b[38;5;129;43;01mis\u001b[39;49;00m\u001b[43m \u001b[49m\u001b[38;5;129;43;01mnot\u001b[39;49;00m\u001b[43m \u001b[49m\u001b[38;5;28;43;01mNone\u001b[39;49;00m\u001b[43m \u001b[49m\u001b[38;5;28;43;01melse\u001b[39;49;00m\u001b[43m \u001b[49m\u001b[38;5;28;43;01mNone\u001b[39;49;00m\u001b[43m,\u001b[49m\n\u001b[32m    327\u001b[39m \u001b[43m    \u001b[49m\u001b[43mmapping\u001b[49m\u001b[43m.\u001b[49m\u001b[43mtask\u001b[49m\u001b[43m,\u001b[49m\n\u001b[32m    328\u001b[39m \u001b[43m    \u001b[49m\u001b[43mdata\u001b[49m\u001b[43m,\u001b[49m\n\u001b[32m    329\u001b[39m \u001b[43m    \u001b[49m\u001b[43mmapping\u001b[49m\u001b[43m,\u001b[49m\n\u001b[32m    330\u001b[39m \u001b[43m\u001b[49m\u001b[43m)\u001b[49m\n\u001b[32m    332\u001b[39m prediction_cols = prediction_columns.get_columns_list() \u001b[38;5;28;01mif\u001b[39;00m prediction_columns \u001b[38;5;129;01mis\u001b[39;00m \u001b[38;5;129;01mnot\u001b[39;00m \u001b[38;5;28;01mNone\u001b[39;00m \u001b[38;5;28;01melse\u001b[39;00m []\n\u001b[32m    334\u001b[39m all_columns = [\n\u001b[32m    335\u001b[39m     id_column,\n\u001b[32m    336\u001b[39m     user_id,\n\u001b[32m   (...)\u001b[39m\u001b[32m    340\u001b[39m     *prediction_cols,\n\u001b[32m    341\u001b[39m ]\n",
      "\u001b[36mFile \u001b[39m\u001b[32m~/Documents/MLOps-Zoomcamp/mlops-zoomcamp/venv/lib/python3.11/site-packages/evidently/utils/data_preprocessing.py:194\u001b[39m, in \u001b[36m_prediction_column\u001b[39m\u001b[34m(prediction, target_type, task, data, mapping)\u001b[39m\n\u001b[32m    192\u001b[39m     \u001b[38;5;28;01mreturn\u001b[39;00m \u001b[38;5;28;01mNone\u001b[39;00m\n\u001b[32m    193\u001b[39m \u001b[38;5;28;01mif\u001b[39;00m prediction_present == ColumnPresenceState.Partially:\n\u001b[32m--> \u001b[39m\u001b[32m194\u001b[39m     \u001b[38;5;28;01mraise\u001b[39;00m \u001b[38;5;167;01mValueError\u001b[39;00m(\u001b[33mf\u001b[39m\u001b[33m\"\u001b[39m\u001b[33mPrediction column (\u001b[39m\u001b[38;5;132;01m{\u001b[39;00mprediction\u001b[38;5;132;01m}\u001b[39;00m\u001b[33m) is partially present in data\u001b[39m\u001b[33m\"\u001b[39m)\n\u001b[32m    195\u001b[39m prediction_type = _get_column_type(prediction, data, mapping)\n\u001b[32m    196\u001b[39m \u001b[38;5;28;01mif\u001b[39;00m task == TaskType.CLASSIFICATION_TASK:\n",
      "\u001b[31mValueError\u001b[39m: Prediction column (prediction) is partially present in data"
     ]
    }
   ],
   "source": [
    "test_suite = TestSuite(tests = [DataDriftTestPreset()])\n",
    "test_suite.run(reference_data=reference_data,\n",
    "               current_data=problematic_data,\n",
    "               column_mapping=column_mapping)"
   ]
  },
  {
   "cell_type": "code",
   "execution_count": null,
   "metadata": {},
   "outputs": [],
   "source": []
  }
 ],
 "metadata": {
  "kernelspec": {
   "display_name": "venv",
   "language": "python",
   "name": "python3"
  },
  "language_info": {
   "codemirror_mode": {
    "name": "ipython",
    "version": 3
   },
   "file_extension": ".py",
   "mimetype": "text/x-python",
   "name": "python",
   "nbconvert_exporter": "python",
   "pygments_lexer": "ipython3",
   "version": "3.11.11"
  },
  "orig_nbformat": 4
 },
 "nbformat": 4,
 "nbformat_minor": 2
}
