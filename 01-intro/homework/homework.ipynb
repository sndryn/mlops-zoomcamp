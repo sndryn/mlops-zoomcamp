{
 "cells": [
  {
   "cell_type": "markdown",
   "id": "f436a1dd",
   "metadata": {},
   "source": [
    "# MLOps Zoomcamp Introduction Homework"
   ]
  },
  {
   "cell_type": "markdown",
   "id": "328376e6",
   "metadata": {},
   "source": [
    "### Download yellow trip data Jan and Feb 2023"
   ]
  },
  {
   "cell_type": "code",
   "execution_count": 1,
   "id": "7e8c44c4",
   "metadata": {},
   "outputs": [],
   "source": [
    "from sklearn.feature_extraction import DictVectorizer\n",
    "from sklearn.linear_model import LinearRegression\n",
    "from sklearn.metrics import root_mean_squared_error\n",
    "import seaborn as sns\n",
    "import matplotlib.pyplot as plt"
   ]
  },
  {
   "cell_type": "code",
   "execution_count": 2,
   "id": "ebc8ce28",
   "metadata": {},
   "outputs": [],
   "source": [
    "import pandas as pd\n",
    "\n",
    "links = {\n",
    "    \"jan_2023\": \"https://d37ci6vzurychx.cloudfront.net/trip-data/yellow_tripdata_2023-01.parquet\",\n",
    "    \"feb_2023\": \"https://d37ci6vzurychx.cloudfront.net/trip-data/yellow_tripdata_2023-02.parquet\"\n",
    "}\n",
    "\n",
    "df_jan = pd.read_parquet(links[\"jan_2023\"])\n",
    "df_feb = pd.read_parquet(links[\"feb_2023\"])"
   ]
  },
  {
   "cell_type": "code",
   "execution_count": 3,
   "id": "7fdb1eb2",
   "metadata": {},
   "outputs": [
    {
     "data": {
      "text/plain": [
       "VendorID                          int64\n",
       "tpep_pickup_datetime     datetime64[us]\n",
       "tpep_dropoff_datetime    datetime64[us]\n",
       "passenger_count                 float64\n",
       "trip_distance                   float64\n",
       "RatecodeID                      float64\n",
       "store_and_fwd_flag               object\n",
       "PULocationID                      int64\n",
       "DOLocationID                      int64\n",
       "payment_type                      int64\n",
       "fare_amount                     float64\n",
       "extra                           float64\n",
       "mta_tax                         float64\n",
       "tip_amount                      float64\n",
       "tolls_amount                    float64\n",
       "improvement_surcharge           float64\n",
       "total_amount                    float64\n",
       "congestion_surcharge            float64\n",
       "airport_fee                     float64\n",
       "dtype: object"
      ]
     },
     "execution_count": 3,
     "metadata": {},
     "output_type": "execute_result"
    }
   ],
   "source": [
    "df_jan.dtypes"
   ]
  },
  {
   "cell_type": "markdown",
   "id": "9d667ea1",
   "metadata": {},
   "source": [
    "### Count number of columns"
   ]
  },
  {
   "cell_type": "code",
   "execution_count": 4,
   "id": "a4f0ed55",
   "metadata": {},
   "outputs": [
    {
     "name": "stdout",
     "output_type": "stream",
     "text": [
      "Number of columns: 19\n"
     ]
    }
   ],
   "source": [
    "print(\"Number of columns:\", len(df_jan.columns))"
   ]
  },
  {
   "cell_type": "markdown",
   "id": "fe7d27db",
   "metadata": {},
   "source": [
    "### Standard Deviation of duration"
   ]
  },
  {
   "cell_type": "code",
   "execution_count": 5,
   "id": "6e0b361a",
   "metadata": {},
   "outputs": [],
   "source": [
    "df_jan[\"duration\"] = df_jan.tpep_dropoff_datetime - df_jan.tpep_pickup_datetime\n",
    "df_jan.duration = df_jan.duration.apply(lambda x: x.total_seconds() / 60)"
   ]
  },
  {
   "cell_type": "code",
   "execution_count": 6,
   "id": "5ab16025",
   "metadata": {},
   "outputs": [
    {
     "name": "stdout",
     "output_type": "stream",
     "text": [
      "Standard Deviation of Jan trips duration:  42.59\n"
     ]
    }
   ],
   "source": [
    "std = df_jan.duration.std()\n",
    "print(\"Standard Deviation of Jan trips duration: \", std.round(2))"
   ]
  },
  {
   "cell_type": "markdown",
   "id": "2a3c91ba",
   "metadata": {},
   "source": [
    "### Remove Outlier"
   ]
  },
  {
   "cell_type": "code",
   "execution_count": 7,
   "id": "8344573c",
   "metadata": {},
   "outputs": [],
   "source": [
    "df_jan_1_60 = df_jan[(df_jan.duration >= 1) & (df_jan.duration <= 60)]"
   ]
  },
  {
   "cell_type": "code",
   "execution_count": 8,
   "id": "0d217823",
   "metadata": {},
   "outputs": [
    {
     "name": "stdout",
     "output_type": "stream",
     "text": [
      "Fraction of recond: 0.98\n"
     ]
    }
   ],
   "source": [
    "fraction = len(df_jan_1_60) / len(df_jan)\n",
    "print(\"Fraction of recond:\", round(fraction, 2))"
   ]
  },
  {
   "cell_type": "markdown",
   "id": "dd647158",
   "metadata": {},
   "source": [
    "### One-hot encoding"
   ]
  },
  {
   "cell_type": "code",
   "execution_count": 9,
   "id": "8771d19b",
   "metadata": {},
   "outputs": [
    {
     "name": "stderr",
     "output_type": "stream",
     "text": [
      "/tmp/ipykernel_68326/2150691442.py:4: FutureWarning: Setting an item of incompatible dtype is deprecated and will raise in a future error of pandas. Value '['161' '43' '48' ... '114' '230' '262']' has dtype incompatible with int64, please explicitly cast to a compatible dtype first.\n",
      "  df_jan_1_60.loc[:, features] = df_jan_1_60[features].astype(str)\n",
      "/tmp/ipykernel_68326/2150691442.py:4: FutureWarning: Setting an item of incompatible dtype is deprecated and will raise in a future error of pandas. Value '['141' '237' '238' ... '239' '79' '143']' has dtype incompatible with int64, please explicitly cast to a compatible dtype first.\n",
      "  df_jan_1_60.loc[:, features] = df_jan_1_60[features].astype(str)\n"
     ]
    },
    {
     "data": {
      "text/plain": [
       "PULocationID    object\n",
       "DOLocationID    object\n",
       "dtype: object"
      ]
     },
     "execution_count": 9,
     "metadata": {},
     "output_type": "execute_result"
    }
   ],
   "source": [
    "# Cast ID columns as string\n",
    "\n",
    "features = ['PULocationID', 'DOLocationID']\n",
    "df_jan_1_60.loc[:, features] = df_jan_1_60[features].astype(str)\n",
    "df_jan_1_60[features].dtypes\n"
   ]
  },
  {
   "cell_type": "code",
   "execution_count": 10,
   "id": "745f8ac5",
   "metadata": {},
   "outputs": [],
   "source": [
    "# Set dataframe as list dictionaries\n",
    "\n",
    "dict_feature_jan = df_jan_1_60[features].to_dict(orient=\"records\")"
   ]
  },
  {
   "cell_type": "code",
   "execution_count": 11,
   "id": "5b5af103",
   "metadata": {},
   "outputs": [
    {
     "name": "stdout",
     "output_type": "stream",
     "text": [
      "Number of dimension 515\n"
     ]
    }
   ],
   "source": [
    "# fit to vectorizer\n",
    "dv = DictVectorizer()\n",
    "x_train = dv.fit_transform(dict_feature_jan)\n",
    "print(\"Number of dimension\", len(dv.get_feature_names_out()))"
   ]
  },
  {
   "cell_type": "markdown",
   "id": "6d515d22",
   "metadata": {},
   "source": [
    "### Model training"
   ]
  },
  {
   "cell_type": "code",
   "execution_count": 12,
   "id": "53672a4b",
   "metadata": {},
   "outputs": [],
   "source": [
    "y_train = df_jan_1_60.duration.values\n",
    "\n",
    "lr = LinearRegression()\n",
    "model = lr.fit(x_train, y_train)"
   ]
  },
  {
   "cell_type": "code",
   "execution_count": 13,
   "id": "a839d717",
   "metadata": {},
   "outputs": [
    {
     "name": "stdout",
     "output_type": "stream",
     "text": [
      "RMSE Train: 7.649\n"
     ]
    }
   ],
   "source": [
    "y_pred = lr.predict(x_train)\n",
    "\n",
    "rmse_train = root_mean_squared_error(y_train, y_pred)\n",
    "print(\"RMSE Train:\", round(rmse_train, 3))"
   ]
  },
  {
   "cell_type": "code",
   "execution_count": 14,
   "id": "7221b35d",
   "metadata": {},
   "outputs": [
    {
     "data": {
      "text/plain": [
       "<matplotlib.legend.Legend at 0x7fed44fb3400>"
      ]
     },
     "execution_count": 14,
     "metadata": {},
     "output_type": "execute_result"
    },
    {
     "data": {
      "image/png": "[encoded data removed]",
      "text/plain": [
       "<Figure size 640x480 with 1 Axes>"
      ]
     },
     "metadata": {},
     "output_type": "display_data"
    }
   ],
   "source": [
    "sns.histplot(y_pred, label='prediction')\n",
    "sns.histplot(y_train, label='actual')\n",
    "\n",
    "plt.legend()"
   ]
  },
  {
   "cell_type": "markdown",
   "id": "b043826a",
   "metadata": {},
   "source": [
    "### Model Evaluation"
   ]
  },
  {
   "cell_type": "code",
   "execution_count": 15,
   "id": "dae39066",
   "metadata": {},
   "outputs": [],
   "source": [
    "# Preprocess\n",
    "\n",
    "df_feb[\"duration\"] = df_feb.tpep_dropoff_datetime - df_feb.tpep_pickup_datetime\n",
    "df_feb.duration = df_feb.duration.apply(lambda x: x.total_seconds() / 60)\n",
    "df_feb = df_feb[(df_feb.duration >= 1) & (df_feb.duration <= 60)]"
   ]
  },
  {
   "cell_type": "code",
   "execution_count": 17,
   "id": "cb6facbd",
   "metadata": {},
   "outputs": [],
   "source": [
    "features = ['PULocationID', 'DOLocationID']\n",
    "df_feb.loc[:, features] = df_feb[features].astype(str)\n",
    "dict_feature_feb = df_feb[features].to_dict(orient=\"records\")\n",
    "x_test = dv.transform(dict_feature_feb)\n",
    "y_test = df_feb.duration.values"
   ]
  },
  {
   "cell_type": "code",
   "execution_count": 21,
   "id": "3d10f00b",
   "metadata": {},
   "outputs": [
    {
     "name": "stdout",
     "output_type": "stream",
     "text": [
      "RMSE test: 7.812\n"
     ]
    }
   ],
   "source": [
    "y_test_pred = model.predict(x_test)\n",
    "rmse_test = root_mean_squared_error(y_test, y_test_pred)\n",
    "print(\"RMSE test:\", round(rmse_test, 3))"
   ]
  },
  {
   "cell_type": "code",
   "execution_count": 22,
   "id": "6f349ffb",
   "metadata": {},
   "outputs": [
    {
     "data": {
      "text/plain": [
       "<matplotlib.legend.Legend at 0x7feca8c9a0e0>"
      ]
     },
     "execution_count": 22,
     "metadata": {},
     "output_type": "execute_result"
    },
    {
     "data": {
      "image/png": "[encoded data removed]",
      "text/plain": [
       "<Figure size 640x480 with 1 Axes>"
      ]
     },
     "metadata": {},
     "output_type": "display_data"
    }
   ],
   "source": [
    "sns.histplot(y_test_pred, label='prediction')\n",
    "sns.histplot(y_test, label='actual')\n",
    "\n",
    "plt.legend()"
   ]
  },
  {
   "cell_type": "markdown",
   "id": "f533cfe0",
   "metadata": {},
   "source": []
  }
 ],
 "metadata": {
  "kernelspec": {
   "display_name": "venv",
   "language": "python",
   "name": "python3"
  },
  "language_info": {
   "codemirror_mode": {
    "name": "ipython",
    "version": 3
   },
   "file_extension": ".py",
   "mimetype": "text/x-python",
   "name": "python",
   "nbconvert_exporter": "python",
   "pygments_lexer": "ipython3",
   "version": "3.10.12"
  }
 },
 "nbformat": 4,
 "nbformat_minor": 5
}
